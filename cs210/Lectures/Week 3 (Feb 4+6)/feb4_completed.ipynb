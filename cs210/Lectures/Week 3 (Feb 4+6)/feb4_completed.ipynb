{
 "cells": [
  {
   "cell_type": "markdown",
   "id": "33d79369-ca21-4bb7-b3e4-c12b8bbb0999",
   "metadata": {},
   "source": [
    "### CS 210 Spring 2025 - Feb 4"
   ]
  },
  {
   "cell_type": "markdown",
   "id": "00bac5e9-c6fd-4776-a7cb-8b1858dcd2f0",
   "metadata": {},
   "source": [
    "---"
   ]
  },
  {
   "cell_type": "markdown",
   "id": "fbc94637-169c-40bd-ab2c-61f2ce947bcf",
   "metadata": {},
   "source": [
    "### <font color=\"brown\">Using Lambdas</font>"
   ]
  },
  {
   "cell_type": "markdown",
   "id": "9e9e31f3-8537-427c-b04c-937ea92fa415",
   "metadata": {},
   "source": [
    "<img src=\"lambdas_prompt.png\" width=700px/>"
   ]
  },
  {
   "cell_type": "markdown",
   "id": "65dc2fde-d78e-4c58-bf79-716be7a0eeb3",
   "metadata": {},
   "source": [
    "<img src=\"lambdas_example1.png\" width=700px/>"
   ]
  },
  {
   "cell_type": "code",
   "execution_count": 35,
   "id": "c1b42876-a4cd-4552-8ace-ae555d09e316",
   "metadata": {},
   "outputs": [
    {
     "name": "stdout",
     "output_type": "stream",
     "text": [
      "15\n"
     ]
    }
   ],
   "source": [
    "add_10 = lambda x: x + 10\n",
    "print(add_10(5))  # Output: 15"
   ]
  },
  {
   "cell_type": "markdown",
   "id": "d3ec5cd0-f560-4959-aee0-2b5a68f20f34",
   "metadata": {},
   "source": [
    "<img src=\"lambdas_example2.png\" width=700px/>"
   ]
  },
  {
   "cell_type": "code",
   "execution_count": 6,
   "id": "8e6f5706-51d9-4ad3-be37-2a39ef0dd221",
   "metadata": {},
   "outputs": [
    {
     "name": "stdout",
     "output_type": "stream",
     "text": [
      "[1, 4, 9, 16, 25]\n"
     ]
    }
   ],
   "source": [
    "numbers = [1, 2, 3, 4, 5]\n",
    "squared = map(lambda x: x ** 2, numbers)\n",
    "print(list(squared))  # Output: [1, 4, 9, 16, 25]"
   ]
  },
  {
   "cell_type": "markdown",
   "id": "c7d9e636-e246-4b24-bf10-de26940a016b",
   "metadata": {},
   "source": [
    "**Note: map gives an object, that needs to be sent as a parameter to the list constructor to get the actual result list**"
   ]
  },
  {
   "cell_type": "code",
   "execution_count": 7,
   "id": "ac9323e4-113a-4246-bcca-b57e6799caa2",
   "metadata": {},
   "outputs": [
    {
     "name": "stdout",
     "output_type": "stream",
     "text": [
      "<map object at 0x14ee91e40>\n"
     ]
    }
   ],
   "source": [
    "# squared is a map object\n",
    "print(squared)  "
   ]
  },
  {
   "cell_type": "markdown",
   "id": "0adccb52-d8a9-4464-aad7-20cbcb6e7829",
   "metadata": {},
   "source": [
    "<img src=\"lambdas_example3.png\" width=700px/>"
   ]
  },
  {
   "cell_type": "code",
   "execution_count": 2,
   "id": "20b89f88-e592-412b-82d2-e514abb11c53",
   "metadata": {},
   "outputs": [
    {
     "name": "stdout",
     "output_type": "stream",
     "text": [
      "[2, 4, 6, 8, 10]\n"
     ]
    }
   ],
   "source": [
    "numbers = [1, 2, 3, 4, 5, 6, 7, 8, 9, 10]\n",
    "even_numbers = filter(lambda x: x % 2 == 0, numbers)\n",
    "print(list(even_numbers))  # Output: [2, 4, 6, 8, 10]"
   ]
  },
  {
   "cell_type": "markdown",
   "id": "cfd0de57-c732-47a2-92bf-bc1ea52f2321",
   "metadata": {},
   "source": [
    "**Like map, filter gives an object, that needs to be sent as a parameter to the list constructor to get the actual result list**"
   ]
  },
  {
   "cell_type": "code",
   "execution_count": 9,
   "id": "4e03d4f5-0a9d-44c2-a097-8512e22f7444",
   "metadata": {},
   "outputs": [
    {
     "name": "stdout",
     "output_type": "stream",
     "text": [
      "<filter object at 0x14ee91840>\n"
     ]
    }
   ],
   "source": [
    "# even_numberes is a map object\n",
    "print(even_numbers)  "
   ]
  },
  {
   "cell_type": "markdown",
   "id": "7da46983-8128-4a05-92da-d3bf38eafc42",
   "metadata": {},
   "source": [
    "<img src=\"lambdas_example4.png\" width=700px/>"
   ]
  },
  {
   "cell_type": "code",
   "execution_count": 3,
   "id": "cbd9d5b6-5e4a-44d2-8b8e-ff315a07dfcc",
   "metadata": {},
   "outputs": [
    {
     "name": "stdout",
     "output_type": "stream",
     "text": [
      "[(5, -1), (4, 1), (1, 2), (3, 3)]\n"
     ]
    }
   ],
   "source": [
    "points = [(1, 2), (4, 1), (5, -1), (3, 3)]\n",
    "sorted_points = sorted(points, key=lambda x: x[1])\n",
    "print(sorted_points)  # Output: [(5, -1), (4, 1), (1, 2), (3, 3)]"
   ]
  },
  {
   "cell_type": "markdown",
   "id": "fb2ccd86-402d-41dc-98c0-25e8457ceabc",
   "metadata": {},
   "source": [
    "<img src=\"lambdas_example5.png\" width=700px/>"
   ]
  },
  {
   "cell_type": "code",
   "execution_count": 4,
   "id": "f285bf07-6227-452a-875d-35c79b8d47bf",
   "metadata": {},
   "outputs": [
    {
     "name": "stdout",
     "output_type": "stream",
     "text": [
      "120\n"
     ]
    }
   ],
   "source": [
    "from functools import reduce\n",
    "numbers = [1, 2, 3, 4, 5]\n",
    "product = reduce(lambda x, y: x * y, numbers)\n",
    "print(product)  # Output: 120"
   ]
  },
  {
   "cell_type": "markdown",
   "id": "4d4955d8-2202-4178-a653-7b2700a3f4cc",
   "metadata": {},
   "source": [
    "<img src=\"lambdas_whentouse.png\" width=700px/>"
   ]
  },
  {
   "cell_type": "markdown",
   "id": "83ed0c1f-4f96-4c3a-b2dd-f01d975fcd0e",
   "metadata": {},
   "source": [
    "---"
   ]
  },
  {
   "cell_type": "markdown",
   "id": "1fbc427f-ba7d-4669-977a-0bc40fe18d84",
   "metadata": {},
   "source": [
    "**It's easy to get carried away with using 'reduce' for things that are easier done using built-in Python functions, or list methods** "
   ]
  },
  {
   "cell_type": "code",
   "execution_count": 10,
   "id": "89ef0434-c782-44eb-8ba9-56b9b5a6d002",
   "metadata": {},
   "outputs": [
    {
     "name": "stdout",
     "output_type": "stream",
     "text": [
      "15\n"
     ]
    }
   ],
   "source": [
    "# Example: using reduce to find sum of all items in a list\n",
    "numbers = [1, 2, 3, 4, 5]\n",
    "sum_of_numbers = reduce(lambda x, y: x + y, numbers)\n",
    "print(sum_of_numbers)  # Output: 15"
   ]
  },
  {
   "cell_type": "code",
   "execution_count": 11,
   "id": "7d301e61-8661-4de3-bb06-a035670b9f3b",
   "metadata": {},
   "outputs": [
    {
     "name": "stdout",
     "output_type": "stream",
     "text": [
      "15\n"
     ]
    }
   ],
   "source": [
    "# This is easily done using the Python 'sum' function on a list:\n",
    "print(sum(numbers))"
   ]
  },
  {
   "cell_type": "code",
   "execution_count": 14,
   "id": "8aff9bd9-cc06-4362-9ecf-0c216bac11ab",
   "metadata": {},
   "outputs": [
    {
     "name": "stdout",
     "output_type": "stream",
     "text": [
      "Hello world this is reduce\n"
     ]
    }
   ],
   "source": [
    "# Example: concatenating strings in a list into a single string\n",
    "words = [\"Hello\", \"world\", \"this\", \"is\", \"reduce\"]\n",
    "sentence = reduce(lambda x, y: x + \" \" + y, words)\n",
    "print(sentence)  # Output: \"Hello world this is reduce\""
   ]
  },
  {
   "cell_type": "code",
   "execution_count": 65,
   "id": "cd294e29-1754-4377-bb52-304c9151ba1c",
   "metadata": {},
   "outputs": [
    {
     "name": "stdout",
     "output_type": "stream",
     "text": [
      "Hello world this is reduce\n"
     ]
    }
   ],
   "source": [
    "# this is easily done using the string 'join' method with a list as parameter:\n",
    "sentence = \" \".join(words)\n",
    "print(sentence)"
   ]
  },
  {
   "cell_type": "markdown",
   "id": "82eec6fc-81a0-4177-9862-be9605048970",
   "metadata": {},
   "source": [
    "---"
   ]
  },
  {
   "cell_type": "markdown",
   "id": "72b79ccf-5c65-43d0-802a-04b7097ffa9e",
   "metadata": {},
   "source": [
    "### <font color=\"brown\">List Comprehension</font>\n",
    "\n",
    "#### Building a list out of an iterable, within the list [ ] syntax\n",
    "#### General syntax is: [expression for item in iterable]"
   ]
  },
  {
   "cell_type": "markdown",
   "id": "06e29b01-253f-4850-b321-bd03dfa77845",
   "metadata": {},
   "source": [
    "**In the list discussion we saw several examples where lists were created manually to demonstrate list features. Manually writing out lists is tedious. In cases where the list items show a pattern, we can generate them using the mechanism of list comprehension.**"
   ]
  },
  {
   "cell_type": "markdown",
   "id": "d155e634-8410-45cd-8901-2f4950f6db40",
   "metadata": {},
   "source": [
    "**Example 1: Squaring items of a list**"
   ]
  },
  {
   "cell_type": "code",
   "execution_count": 67,
   "id": "6e194f56-62c5-4658-9551-1884ae8894b1",
   "metadata": {},
   "outputs": [
    {
     "data": {
      "text/plain": [
       "[1, 4, 9, 16, 25, 36, 49]"
      ]
     },
     "execution_count": 67,
     "metadata": {},
     "output_type": "execute_result"
    }
   ],
   "source": [
    "squared = [i*i for i in range(1,8)]\n",
    "squared"
   ]
  },
  {
   "cell_type": "markdown",
   "id": "26344635-f1d9-4fcf-bffc-ac05d2cf42c0",
   "metadata": {},
   "source": [
    "**Example 2: Generating a list of even numbers**"
   ]
  },
  {
   "cell_type": "code",
   "execution_count": 68,
   "id": "abb510ce-7361-45be-9341-1cbc14c7907b",
   "metadata": {},
   "outputs": [
    {
     "data": {
      "text/plain": [
       "[2, 4, 6, 8, 10]"
      ]
     },
     "execution_count": 68,
     "metadata": {},
     "output_type": "execute_result"
    }
   ],
   "source": [
    "even_numbers = [i for i in range(1,11) if i % 2 == 0]\n",
    "even_numbers"
   ]
  },
  {
   "cell_type": "markdown",
   "id": "2241d902-b8be-4cd6-af8f-57b697049d80",
   "metadata": {},
   "source": [
    "**List comprehension can be used to transform lists that already exist**"
   ]
  },
  {
   "cell_type": "markdown",
   "id": "b618d1a9-4267-4805-bf76-5202a08605a6",
   "metadata": {},
   "source": [
    "**Example 3: From a list of points (x,y), extract points that have x > 1 and y > 0**"
   ]
  },
  {
   "cell_type": "code",
   "execution_count": 69,
   "id": "dfe6a1b4-8947-4e41-ace5-43492e714e80",
   "metadata": {},
   "outputs": [
    {
     "data": {
      "text/plain": [
       "[(4, 1), (3, 3)]"
      ]
     },
     "execution_count": 69,
     "metadata": {},
     "output_type": "execute_result"
    }
   ],
   "source": [
    "points = [(1, 2), (4, 1), (5, -1), (3, 3)]\n",
    "some_points = [(x,y) for (x,y) in points if x > 1 and y > 0]\n",
    "some_points"
   ]
  },
  {
   "cell_type": "markdown",
   "id": "0d0d6880-8df1-46c0-a548-901cc3eeae80",
   "metadata": {},
   "source": [
    "**The source from which a list is built can be another iterable, such as a string**"
   ]
  },
  {
   "cell_type": "markdown",
   "id": "9a0313e1-8d41-4715-86bf-3ff055d09fbc",
   "metadata": {},
   "source": [
    "**Example 4: Extract all vowels from a string**"
   ]
  },
  {
   "cell_type": "code",
   "execution_count": 70,
   "id": "53332ade-38c3-44fb-bcb1-0df024f3d21b",
   "metadata": {},
   "outputs": [
    {
     "name": "stdout",
     "output_type": "stream",
     "text": [
      "['a', 'o', 'e', 'a', 'o', 'u', 'o', 'e', 'a', 'o', 'u']\n"
     ]
    }
   ],
   "source": [
    "txt = 'What goes around comes around'\n",
    "vowels = [v for v in txt if v.lower() in 'aeiou']\n",
    "print(vowels)"
   ]
  },
  {
   "cell_type": "markdown",
   "id": "125353a3-afde-40fa-b594-d4a85413ba70",
   "metadata": {},
   "source": [
    "**You can have nested for loops in a list comprehension, as in the following example where a list is created separately out of string text, and then a comprehension is applied it to get the result**"
   ]
  },
  {
   "cell_type": "markdown",
   "id": "b27b5fc8-379a-4196-84ee-0ba4e93052a0",
   "metadata": {},
   "source": [
    "**Example 5: List all non-standalone vowels in a string**"
   ]
  },
  {
   "cell_type": "code",
   "execution_count": 71,
   "id": "efcea5ea-c32f-448f-b1e9-5eb826e07cc4",
   "metadata": {},
   "outputs": [
    {
     "name": "stdout",
     "output_type": "stream",
     "text": [
      "After split:  ['This', 'is', 'a', 'string', 'that', 'I', 'want', 'to', 'use', 'as', 'an', 'example']\n",
      "Non-standalone vowels: ['i', 'i', 'i', 'a', 'a', 'o', 'u', 'e', 'a', 'a', 'e', 'a', 'e']\n"
     ]
    }
   ],
   "source": [
    "txt = 'This is a string that I want to use as an example'\n",
    "lst = txt.split()\n",
    "print(\"After split: \", lst)\n",
    "vowels = [v for word in lst for v in word if len(word) > 1 and v.lower() in 'aeiou']\n",
    "print(\"Non-standalone vowels:\", vowels)"
   ]
  },
  {
   "cell_type": "markdown",
   "id": "2a46ec39-2415-4b92-a10e-f307b55354bd",
   "metadata": {},
   "source": [
    "**Example 6: Extract all 200 level classes from a list of course numbers**"
   ]
  },
  {
   "cell_type": "code",
   "execution_count": 72,
   "id": "e9838f76-8e1a-44d4-b8db-28339cc8affe",
   "metadata": {
    "tags": []
   },
   "outputs": [
    {
     "name": "stdout",
     "output_type": "stream",
     "text": [
      "['198:210', '640:250']\n"
     ]
    }
   ],
   "source": [
    "courses = [\"198:210\",\"640:352\",\"640:250\",\"198:440\"]\n",
    "sub200 = [cl for cl in courses if \":2\" in cl]\n",
    "print(sub200)"
   ]
  },
  {
   "cell_type": "markdown",
   "id": "1eb3ed0b-5d86-4603-bf70-f036913ccc03",
   "metadata": {},
   "source": [
    "**Example 7: A function that uses list comprehenshion to generate all item pairs from two input lists, except when the items are equal**"
   ]
  },
  {
   "cell_type": "code",
   "execution_count": 73,
   "id": "b00e1b93-0198-4bf5-95f7-54684f3a40ca",
   "metadata": {
    "tags": []
   },
   "outputs": [],
   "source": [
    "# pairs of items where x is not equal to y\n",
    "def get_pairs(x,y):\n",
    "    return [(xv,yv) for xv in x \n",
    "                        for yv in y \n",
    "                            if xv != yv]"
   ]
  },
  {
   "cell_type": "code",
   "execution_count": 74,
   "id": "8dac2640-54aa-44a6-b6a6-f4cfa82cc061",
   "metadata": {
    "tags": []
   },
   "outputs": [
    {
     "name": "stdout",
     "output_type": "stream",
     "text": [
      "[(1, 3), (2, 3)]\n",
      "[(2, 1), (2, 5), (2, 6), (1, 5), (1, 6), (5, 1), (5, 6)]\n"
     ]
    }
   ],
   "source": [
    "print(get_pairs([1,2,3],[3]))\n",
    "print(get_pairs([2,1,5],[1,5,6]))"
   ]
  },
  {
   "cell_type": "markdown",
   "id": "462764d2-5d80-49ef-a1f6-8e14757296dd",
   "metadata": {},
   "source": [
    "**Example 8: List of leap years from 1990 to 2024**"
   ]
  },
  {
   "cell_type": "code",
   "execution_count": 75,
   "id": "009899f5-911b-438c-a789-67cae38e926f",
   "metadata": {},
   "outputs": [
    {
     "name": "stdout",
     "output_type": "stream",
     "text": [
      "[1992, 1996, 2000, 2004, 2008, 2012, 2016, 2020, 2024]\n"
     ]
    }
   ],
   "source": [
    "# Version 1: NOT using list comprehension\n",
    "leaps = []\n",
    "for yr in range(1990,2025):\n",
    "    if (yr % 4 == 0 and yr % 100 != 0) or (yr % 400 == 0):\n",
    "        leaps.append(yr)\n",
    "print(leaps)"
   ]
  },
  {
   "cell_type": "code",
   "execution_count": 76,
   "id": "5f003a67-1aab-4f39-b031-346a5885dc44",
   "metadata": {},
   "outputs": [
    {
     "name": "stdout",
     "output_type": "stream",
     "text": [
      "[1992, 1996, 2000, 2004, 2008, 2012, 2016, 2020]\n"
     ]
    }
   ],
   "source": [
    "# Version 2: using list comprehension\n",
    "leapyrs = [yr for yr in range(1990,2024) \n",
    "                    if (yr % 4 == 0 and yr % 100 != 0) or (yr % 400 == 0)]\n",
    "print(leapyrs)"
   ]
  },
  {
   "cell_type": "markdown",
   "id": "86a47139-2a13-420a-bd6c-0aafd0c2fda1",
   "metadata": {},
   "source": [
    "**Example 9: Generating pairs x,y where 0 <= x < 5 and x < y < 5**"
   ]
  },
  {
   "cell_type": "code",
   "execution_count": 77,
   "id": "64f63e31-64e5-413e-b0d0-4fdebc3802ef",
   "metadata": {},
   "outputs": [
    {
     "name": "stdout",
     "output_type": "stream",
     "text": [
      "[(0, 1), (0, 2), (0, 3), (0, 4), (1, 2), (1, 3), (1, 4), (2, 3), (2, 4), (3, 4)]\n"
     ]
    }
   ],
   "source": [
    "increasing_pairs = [(x,y) for x in range(5) for y in range(x+1,5)]\n",
    "print(increasing_pairs)"
   ]
  },
  {
   "cell_type": "markdown",
   "id": "6e1a2e0d-6d47-4453-a3a2-43f5519c2b39",
   "metadata": {},
   "source": [
    "#### Examples of building lists of lists"
   ]
  },
  {
   "cell_type": "markdown",
   "id": "36377384-c0b1-45cc-97da-65a014853dba",
   "metadata": {},
   "source": [
    "**Example 10: Generate the list [[1,2,3],[1,2,3],[1,2,3]]**"
   ]
  },
  {
   "cell_type": "code",
   "execution_count": 78,
   "id": "81f2f550-b2b8-4f43-955f-e9afd6dfbb04",
   "metadata": {},
   "outputs": [
    {
     "name": "stdout",
     "output_type": "stream",
     "text": [
      "[[1, 2, 3], [1, 2, 3], [1, 2, 3]]\n"
     ]
    }
   ],
   "source": [
    "list_of_lists = [[j for j in range(1,4)] for _ in range(1,4)]\n",
    "print(list_of_lists)"
   ]
  },
  {
   "cell_type": "markdown",
   "id": "d5b762bc-1f26-4e5e-a370-8ce33d23a8df",
   "metadata": {},
   "source": [
    "**Example 11: Generate the list [[1,2,3],[4,5,6],[7,8,9]]**"
   ]
  },
  {
   "cell_type": "code",
   "execution_count": 79,
   "id": "f2e55182-70e4-4ec5-aa06-2134d418ebb4",
   "metadata": {},
   "outputs": [
    {
     "name": "stdout",
     "output_type": "stream",
     "text": [
      "[[1, 2, 3], [4, 5, 6], [7, 8, 9]]\n"
     ]
    }
   ],
   "source": [
    "list_of_lists = [[j+(i-1)*3 for j in range(1,4)] for i in range(1,4)]\n",
    "print(list_of_lists)"
   ]
  },
  {
   "cell_type": "markdown",
   "id": "25a44ed0-6d19-492e-8a18-5da364c482ca",
   "metadata": {},
   "source": [
    "**Example 12: Generating sublists of varying lengths**"
   ]
  },
  {
   "cell_type": "code",
   "execution_count": 80,
   "id": "4803500a-6b53-422d-985d-aae7b986ec09",
   "metadata": {},
   "outputs": [
    {
     "name": "stdout",
     "output_type": "stream",
     "text": [
      "[[1], [1, 2], [1, 2, 3]]\n"
     ]
    }
   ],
   "source": [
    "varying_lengths = [[j for j in range(1,i)] for i in range(2,5)]\n",
    "print(varying_lengths)"
   ]
  },
  {
   "cell_type": "markdown",
   "id": "549a9aa9-f9f6-4982-9373-ce8640f9fadf",
   "metadata": {},
   "source": [
    "---"
   ]
  },
  {
   "cell_type": "markdown",
   "id": "2ac3d665-0c61-4d51-b2f0-1f0bddfcd230",
   "metadata": {},
   "source": [
    "### <font color=\"brown\">A quick review of assertions and testing</font>"
   ]
  },
  {
   "cell_type": "markdown",
   "id": "902024d9-d3e2-4c59-843d-f605bea6e619",
   "metadata": {},
   "source": [
    "**We saw this code earlier that ChatGPT had generated.**"
   ]
  },
  {
   "cell_type": "code",
   "execution_count": 28,
   "id": "68558376-38ab-4782-a045-5caeb28f9156",
   "metadata": {},
   "outputs": [
    {
     "name": "stdout",
     "output_type": "stream",
     "text": [
      "1 2 3\n"
     ]
    }
   ],
   "source": [
    "from typing import Tuple\n",
    "\n",
    "def sort_three_numbers(a: int, b: int, c: int) -> Tuple[int, int, int]:\n",
    "    # Initial assumption\n",
    "    if a > b:\n",
    "        a, b = b, a\n",
    "    if a > c:\n",
    "        a, c = c, a\n",
    "    if b > c:\n",
    "        b, c = c, b\n",
    "    return a, b, c\n",
    "\n",
    "# Example usage:\n",
    "x, y, z = sort_three_numbers(3, 1, 2)\n",
    "print(x, y, z)  # Output will be: 1 2 3"
   ]
  },
  {
   "cell_type": "markdown",
   "id": "2aeff024-38af-4c32-9369-ac61186df3b9",
   "metadata": {},
   "source": [
    "**We used a bunch of assert statements to test the function:**"
   ]
  },
  {
   "cell_type": "code",
   "execution_count": 30,
   "id": "1d402577-35db-49b4-96f9-1151936e31ab",
   "metadata": {},
   "outputs": [],
   "source": [
    "# Test using assertion\n",
    "assert sort_three_numbers(3,1,2) == (1,2,3)\n",
    "assert sort_three_numbers(3,2,1) == (1,2,3)\n",
    "assert sort_three_numbers(2,1,3) == (1,2,3)\n",
    "assert sort_three_numbers(2,3,1) == (1,2,3)\n",
    "assert sort_three_numbers(1,2,3) == (1,2,3)\n",
    "assert sort_three_numbers(1,3,2) == (1,2,3)\n",
    "assert sort_three_numbers(-1,-1,-1) == (-1,-1,-1)"
   ]
  },
  {
   "cell_type": "markdown",
   "id": "1e3e676c-0c87-4110-b8ff-06e677dd7bf1",
   "metadata": {},
   "source": [
    "**A better option would be to write all the test cases separately, then use a loop to iterate over them with asserts**"
   ]
  },
  {
   "cell_type": "code",
   "execution_count": 29,
   "id": "92a5b6bb-eaff-4159-9b3a-463a03fb495a",
   "metadata": {},
   "outputs": [
    {
     "name": "stdout",
     "output_type": "stream",
     "text": [
      "All test cases passed!\n"
     ]
    }
   ],
   "source": [
    "def test_sort_three_numbers():\n",
    "    test_cases = [\n",
    "        ((3, 2, 1), (1, 2, 3)),\n",
    "        ((1, 2, 3), (1, 2, 3)),\n",
    "        ((3, 1, 2), (1, 2, 3)),\n",
    "        ((1, 3, 2), (1, 2, 3)),\n",
    "        ((2, 1, 3), (1, 2, 3)),\n",
    "        ((2, 3, 1), (1, 2, 3))\n",
    "    ]\n",
    "    \n",
    "    for i, (inputs, expected) in enumerate(test_cases):\n",
    "        result = sort_three_numbers(*inputs)\n",
    "        assert result == expected, f\"Test case {i + 1} failed: input({inputs}) => output({result}), expected({expected})\"\n",
    "    print(\"All test cases passed!\")\n",
    "\n",
    "# Running the test function\n",
    "test_sort_three_numbers()"
   ]
  },
  {
   "cell_type": "markdown",
   "id": "d96d2ed3-b057-4575-9e28-1da30048890b",
   "metadata": {},
   "source": [
    "#### Passing a tuple argument for unpacking into individual parameters of function"
   ]
  },
  {
   "cell_type": "markdown",
   "id": "3151ecff-ddb8-4f80-b94e-400147e18674",
   "metadata": {},
   "source": [
    "**Note how \\*inputs sent as an argument matches the parameters a,b,c of the function**"
   ]
  },
  {
   "cell_type": "code",
   "execution_count": 37,
   "id": "2af847f5-3b5c-4862-97b9-f9b8b47843d8",
   "metadata": {},
   "outputs": [],
   "source": [
    "def afunc(a,b,c):\n",
    "    print(f'a={a} b={b} c={c}')"
   ]
  },
  {
   "cell_type": "code",
   "execution_count": 38,
   "id": "b4ea35cf-8484-446b-baeb-faecb4d11ba8",
   "metadata": {},
   "outputs": [
    {
     "ename": "TypeError",
     "evalue": "afunc() missing 2 required positional arguments: 'b' and 'c'",
     "output_type": "error",
     "traceback": [
      "\u001b[0;31m---------------------------------------------------------------------------\u001b[0m",
      "\u001b[0;31mTypeError\u001b[0m                                 Traceback (most recent call last)",
      "Cell \u001b[0;32mIn[38], line 1\u001b[0m\n\u001b[0;32m----> 1\u001b[0m afunc((\u001b[38;5;241m1\u001b[39m,\u001b[38;5;241m2\u001b[39m,\u001b[38;5;241m3\u001b[39m))\n",
      "\u001b[0;31mTypeError\u001b[0m: afunc() missing 2 required positional arguments: 'b' and 'c'"
     ]
    }
   ],
   "source": [
    "afunc((1,2,3))"
   ]
  },
  {
   "cell_type": "markdown",
   "id": "a5112861-7cc5-481e-8104-d86378c4f01d",
   "metadata": {},
   "source": [
    "**As you can see, Python can't tell whether you meant for the tuple to match the first parameter all by itself, or you meant for the tuple to be unpacked. The `*` in front of the tuple that is sent disambiguates this, and makes it clear that the tuple is supposed to be unpacked**"
   ]
  },
  {
   "cell_type": "code",
   "execution_count": 39,
   "id": "55c965bc-d799-44f5-b039-96d03febd392",
   "metadata": {},
   "outputs": [
    {
     "name": "stdout",
     "output_type": "stream",
     "text": [
      "a=1 b=2 c=3\n"
     ]
    }
   ],
   "source": [
    "# The '* in front of the tuple will unpack the tuple to match with function params\n",
    "afunc(*(1,2,3))"
   ]
  },
  {
   "cell_type": "code",
   "execution_count": 40,
   "id": "6f33c54d-fb50-4fa6-b4f5-9ff2d2c064ba",
   "metadata": {},
   "outputs": [
    {
     "name": "stdout",
     "output_type": "stream",
     "text": [
      "a=1 b=2 c=(3, 4)\n"
     ]
    }
   ],
   "source": [
    "# Params a and b of function will get 1 and 2 respectively, and param c will get (3,4)\n",
    "afunc(*(1,2),(3,4))"
   ]
  },
  {
   "cell_type": "markdown",
   "id": "60dc0afc-4b6a-4d4e-a0cc-3f1d5b44f881",
   "metadata": {},
   "source": [
    "---"
   ]
  },
  {
   "cell_type": "markdown",
   "id": "c8492200-d8ed-485a-9cbf-bd4f7ea104bb",
   "metadata": {},
   "source": [
    "#### Using assert for postcondition in a function"
   ]
  },
  {
   "cell_type": "markdown",
   "id": "f715bd36-9239-44b3-9a78-f73c8f0568b8",
   "metadata": {},
   "source": [
    "**The above approach uses the assert statement during call. For this specific example, we can use a postcondition inside the function to ensure that the values have been arranged in ascending order. For sake of completeness, let's also throw in preconditions to ensure the parameters are in fact integers**"
   ]
  },
  {
   "cell_type": "code",
   "execution_count": 41,
   "id": "1d33c445-cc9c-4893-bc22-60947b0faff5",
   "metadata": {},
   "outputs": [
    {
     "name": "stdout",
     "output_type": "stream",
     "text": [
      "1 2 3\n"
     ]
    }
   ],
   "source": [
    "from typing import Tuple\n",
    "\n",
    "def sort_three_numbers_v2(a: int, b: int, c: int) -> Tuple[int, int, int]:\n",
    "    # Preconditions: check that all inputs are integers\n",
    "    assert isinstance(a, int), \"Input 'a' must be an integer\"\n",
    "    assert isinstance(b, int), \"Input 'b' must be an integer\"\n",
    "    assert isinstance(c, int), \"Input 'c' must be an integer\"\n",
    "\n",
    "    # Sorting logic\n",
    "    if a > b:\n",
    "        a, b = b, a\n",
    "    if a > c:\n",
    "        a, c = c, a\n",
    "    if b > c:\n",
    "        b, c = c, b\n",
    "    \n",
    "    # Postcondition: check that the result is in ascending order\n",
    "    assert a <= b <= c, \"Result is not in ascending order\"\n",
    "\n",
    "    return a, b, c\n",
    "\n",
    "# Example usage:\n",
    "x, y, z = sort_three_numbers_v2(3, 1, 2)\n",
    "print(x, y, z)  # Output will be: 1 2 3"
   ]
  },
  {
   "cell_type": "markdown",
   "id": "96852068-9279-482a-8512-df38ea3e1b14",
   "metadata": {},
   "source": [
    "**You can use the same loop-over-test-cases like before, but the assertions are taken out of the call site**"
   ]
  },
  {
   "cell_type": "code",
   "execution_count": 43,
   "id": "1ce6b0b9-71f4-4bf6-becf-3f6631ae32f4",
   "metadata": {},
   "outputs": [
    {
     "name": "stdout",
     "output_type": "stream",
     "text": [
      "All test cases passed!\n"
     ]
    }
   ],
   "source": [
    "def test_sort_three_numbers_v2():\n",
    "    test_cases = [\n",
    "        ((3, 2, 1), (1, 2, 3)),\n",
    "        ((1, 2, 3), (1, 2, 3)),\n",
    "        ((3, 1, 2), (1, 2, 3)),\n",
    "        ((1, 3, 2), (1, 2, 3)),\n",
    "        ((2, 1, 3), (1, 2, 3)),\n",
    "        ((2, 3, 1), (1, 2, 3))\n",
    "    ]\n",
    "    \n",
    "    for i, (inputs, expected) in enumerate(test_cases):\n",
    "        result = sort_three_numbers_v2(*inputs)\n",
    "    print(\"All test cases passed!\")  # this statement reached when no assertion error occurs\n",
    "\n",
    "# Running the test function\n",
    "test_sort_three_numbers_v2()"
   ]
  }
 ],
 "metadata": {
  "kernelspec": {
   "display_name": "Python 3 (ipykernel)",
   "language": "python",
   "name": "python3"
  },
  "language_info": {
   "codemirror_mode": {
    "name": "ipython",
    "version": 3
   },
   "file_extension": ".py",
   "mimetype": "text/x-python",
   "name": "python",
   "nbconvert_exporter": "python",
   "pygments_lexer": "ipython3",
   "version": "3.11.7"
  }
 },
 "nbformat": 4,
 "nbformat_minor": 5
}
