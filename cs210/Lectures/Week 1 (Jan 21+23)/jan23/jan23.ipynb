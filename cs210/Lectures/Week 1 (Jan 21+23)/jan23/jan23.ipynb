{
 "cells": [
  {
   "cell_type": "markdown",
   "id": "fa45ee00-31ec-4016-a2dc-5c8ed06ab4f7",
   "metadata": {},
   "source": [
    "### CS 210 Spring 2025 - Jan 23"
   ]
  },
  {
   "cell_type": "markdown",
   "id": "d9c2cf94-7b78-4bcb-869e-237a92d1002f",
   "metadata": {},
   "source": [
    "---"
   ]
  },
  {
   "cell_type": "markdown",
   "id": "920120a3-d92c-430f-88ea-164c77156c5f",
   "metadata": {},
   "source": [
    "### <font color=\"brown\">Decisions</font>"
   ]
  },
  {
   "cell_type": "markdown",
   "id": "ca8fe6fb-151c-4c18-be43-a308c9580291",
   "metadata": {},
   "source": [
    "Write a Python function to arrange 3 numbers in ascending order using only if statements. Do not use the sort function. "
   ]
  },
  {
   "cell_type": "markdown",
   "id": "fcfa7bbb-81af-4b75-95a7-3ae5853ec7ca",
   "metadata": {},
   "source": [
    "---"
   ]
  },
  {
   "cell_type": "markdown",
   "id": "27fe82ff-68f9-4c1c-90b8-d015b40659b2",
   "metadata": {},
   "source": [
    "<img src=\"arrange3_prompt.png\" width=700px />"
   ]
  },
  {
   "cell_type": "code",
   "execution_count": 10,
   "id": "5ea84f49-2119-4a83-8c75-1f43a6778ae7",
   "metadata": {},
   "outputs": [
    {
     "name": "stdout",
     "output_type": "stream",
     "text": [
      "1 2 3\n"
     ]
    }
   ],
   "source": [
    "def sort_three_numbers(a, b, c):\n",
    "    # Initial assumption\n",
    "    if a > b:\n",
    "        a, b = b, a\n",
    "    if a > c:\n",
    "        a, c = c, a\n",
    "    if b > c:\n",
    "        b, c = c, b\n",
    "    return a, b, c\n",
    "\n",
    "# Example usage:\n",
    "x, y, z = sort_three_numbers(3, 1, 2)\n",
    "print(x, y, z)  # Output will be: 1 2 3"
   ]
  },
  {
   "cell_type": "markdown",
   "id": "06e402fa-9bf6-4e31-8760-333634b99159",
   "metadata": {},
   "source": [
    "<img src=\"arrange3_exp.png\" width=700px/>"
   ]
  },
  {
   "cell_type": "markdown",
   "id": "12e503e7-a736-4e41-a07f-d620969dfbea",
   "metadata": {},
   "source": [
    "#### Specifying explicit data types for parameters and return values"
   ]
  },
  {
   "cell_type": "markdown",
   "id": "f09d9ff9-4178-4e37-a225-fe1d23829a46",
   "metadata": {},
   "source": [
    "<img src=\"arrange3_hdrtypes_prompt.png\" width=700px />"
   ]
  },
  {
   "cell_type": "code",
   "execution_count": 25,
   "id": "ebfa47ee-6b1d-40eb-9cfc-944f883d8c7d",
   "metadata": {},
   "outputs": [
    {
     "name": "stdout",
     "output_type": "stream",
     "text": [
      "1 2 3\n"
     ]
    }
   ],
   "source": [
    "from typing import Tuple\n",
    "\n",
    "def sort_three_numbers(a: int, b: int, c: int) -> Tuple[int, int, int]:\n",
    "    # Initial assumption\n",
    "    if a > b:\n",
    "        a, b = b, a\n",
    "    if a > c:\n",
    "        a, c = c, a\n",
    "    if b > c:\n",
    "        b, c = c, b\n",
    "    return a, b, c\n",
    "\n",
    "# Example usage:\n",
    "x, y, z = sort_three_numbers(3, 1, 2)\n",
    "print(x, y, z)  # Output will be: 1 2 3"
   ]
  },
  {
   "cell_type": "markdown",
   "id": "1b16e435-8ce1-4914-a1aa-4f8bbe65c281",
   "metadata": {},
   "source": [
    "**ChatGPT assumed integers (we had asked for numbers). We can refine the prompt to ask for real numbers, if we want. But we'll stick with integers**"
   ]
  },
  {
   "cell_type": "code",
   "execution_count": 27,
   "id": "bef03630-027a-483b-aa50-f0e353e3b966",
   "metadata": {},
   "outputs": [
    {
     "ename": "TypeError",
     "evalue": "'>' not supported between instances of 'str' and 'int'",
     "output_type": "error",
     "traceback": [
      "\u001b[0;31m---------------------------------------------------------------------------\u001b[0m",
      "\u001b[0;31mTypeError\u001b[0m                                 Traceback (most recent call last)",
      "Cell \u001b[0;32mIn[27], line 2\u001b[0m\n\u001b[1;32m      1\u001b[0m \u001b[38;5;66;03m# What happens if you send in a wrong parameter type?\u001b[39;00m\n\u001b[0;32m----> 2\u001b[0m sort_three_numbers(\u001b[38;5;124m'\u001b[39m\u001b[38;5;124ma\u001b[39m\u001b[38;5;124m'\u001b[39m,\u001b[38;5;241m1\u001b[39m,\u001b[38;5;241m2\u001b[39m)\n",
      "Cell \u001b[0;32mIn[25], line 5\u001b[0m, in \u001b[0;36msort_three_numbers\u001b[0;34m(a, b, c)\u001b[0m\n\u001b[1;32m      3\u001b[0m \u001b[38;5;28;01mdef\u001b[39;00m \u001b[38;5;21msort_three_numbers\u001b[39m(a: \u001b[38;5;28mint\u001b[39m, b: \u001b[38;5;28mint\u001b[39m, c: \u001b[38;5;28mint\u001b[39m) \u001b[38;5;241m-\u001b[39m\u001b[38;5;241m>\u001b[39m Tuple[\u001b[38;5;28mint\u001b[39m, \u001b[38;5;28mint\u001b[39m, \u001b[38;5;28mint\u001b[39m]:\n\u001b[1;32m      4\u001b[0m     \u001b[38;5;66;03m# Initial assumption\u001b[39;00m\n\u001b[0;32m----> 5\u001b[0m     \u001b[38;5;28;01mif\u001b[39;00m a \u001b[38;5;241m>\u001b[39m b:\n\u001b[1;32m      6\u001b[0m         a, b \u001b[38;5;241m=\u001b[39m b, a\n\u001b[1;32m      7\u001b[0m     \u001b[38;5;28;01mif\u001b[39;00m a \u001b[38;5;241m>\u001b[39m c:\n",
      "\u001b[0;31mTypeError\u001b[0m: '>' not supported between instances of 'str' and 'int'"
     ]
    }
   ],
   "source": [
    "# What happens if you send in a wrong parameter type?\n",
    "sort_three_numbers('a',1,2)"
   ]
  },
  {
   "cell_type": "markdown",
   "id": "4922f87e-31cd-442c-8c72-a3c61ee99e99",
   "metadata": {},
   "source": [
    "**<font color=\"red\">Note that the parameter mismatch was NOT caught at the header, but rather when the value was actually used!</font>**"
   ]
  },
  {
   "cell_type": "code",
   "execution_count": 32,
   "id": "a5ea5588-0eee-4921-8611-faab32f9c05d",
   "metadata": {},
   "outputs": [],
   "source": [
    "def afunc(a:int, b:int, c:int):\n",
    "    print(a,b,c)"
   ]
  },
  {
   "cell_type": "code",
   "execution_count": 33,
   "id": "4914621a-027e-4f7b-b641-d1dfe8fd624e",
   "metadata": {},
   "outputs": [
    {
     "name": "stdout",
     "output_type": "stream",
     "text": [
      "hey it's me\n"
     ]
    }
   ],
   "source": [
    "afunc(\"hey\",\"it's\",\"me\")"
   ]
  },
  {
   "cell_type": "markdown",
   "id": "48a4d522-827c-404a-b0d7-1043d3405e80",
   "metadata": {},
   "source": [
    "**The above call works just fine. Python is not like Java!**"
   ]
  },
  {
   "cell_type": "markdown",
   "id": "203c1c96-1c94-4064-91c2-01af8c08027f",
   "metadata": {},
   "source": [
    "---"
   ]
  },
  {
   "cell_type": "markdown",
   "id": "2c7c9f28-c965-4a47-b7ea-36edc27928e0",
   "metadata": {},
   "source": [
    "### <font color=\"brown\">Testing/Filtering Using Assertions</font>"
   ]
  },
  {
   "cell_type": "markdown",
   "id": "ec413332-d5cf-4505-b5ab-4796c1d8cf51",
   "metadata": {},
   "source": [
    "**You can use <code>assert</code> to test correctness**"
   ]
  },
  {
   "cell_type": "code",
   "execution_count": 25,
   "id": "51d0f35a-8e48-4802-8651-16a4519aba41",
   "metadata": {},
   "outputs": [
    {
     "name": "stdout",
     "output_type": "stream",
     "text": [
      "1 2 3\n"
     ]
    }
   ],
   "source": [
    "from typing import Tuple\n",
    "\n",
    "def sort_three_numbers(a: int, b: int, c: int) -> Tuple[int, int, int]:\n",
    "    # Initial assumption\n",
    "    if a > b:\n",
    "        a, b = b, a\n",
    "    if a > c:\n",
    "        a, c = c, a\n",
    "    if b > c:\n",
    "        b, c = c, b\n",
    "    return a, b, c\n",
    "\n",
    "# Example usage:\n",
    "x, y, z = sort_three_numbers(3, 1, 2)\n",
    "print(x, y, z)  # Output will be: 1 2 3"
   ]
  },
  {
   "cell_type": "code",
   "execution_count": 26,
   "id": "883edeaf-a958-4be6-a0a5-7a6edbb3ee37",
   "metadata": {},
   "outputs": [],
   "source": [
    "# Test using assertion\n",
    "assert sort_three_numbers(3,1,2) == (1,2,3)\n",
    "assert sort_three_numbers(3,2,1) == (1,2,3)\n",
    "assert sort_three_numbers(2,1,3) == (1,2,3)\n",
    "assert sort_three_numbers(2,3,1) == (1,2,3)\n",
    "assert sort_three_numbers(1,2,3) == (1,2,3)\n",
    "assert sort_three_numbers(1,3,2) == (1,2,3)\n",
    "assert sort_three_numbers(-1,-1,-1) == (-1,-1,-1)"
   ]
  },
  {
   "cell_type": "markdown",
   "id": "6c8e35a4-c012-49cd-bee1-562ec193b36d",
   "metadata": {},
   "source": [
    "**You can use assertions for precondition and postcondition in the function**"
   ]
  },
  {
   "cell_type": "markdown",
   "id": "cdabee85-e07d-41cf-979c-7670fd771e07",
   "metadata": {},
   "source": [
    "<b><font color=\"blue\"><font size=+1>Start ChatGPT</font></font></b>"
   ]
  },
  {
   "cell_type": "markdown",
   "id": "c4225ac5-7646-4e01-8e46-af6026473869",
   "metadata": {},
   "source": [
    "<img src=\"assert_prompt.png\" width=700px />"
   ]
  },
  {
   "cell_type": "markdown",
   "id": "cc1ca3c2-6e18-441c-b5ee-2aca3a5e5319",
   "metadata": {},
   "source": [
    "<img src=\"assert_expl_ex1.png\" width=700px />"
   ]
  },
  {
   "cell_type": "code",
   "execution_count": 28,
   "id": "89da6a3f-40b2-420e-9491-2653795ee51b",
   "metadata": {},
   "outputs": [
    {
     "name": "stdout",
     "output_type": "stream",
     "text": [
      "5.0\n"
     ]
    },
    {
     "ename": "AssertionError",
     "evalue": "Denominator must not be zero",
     "output_type": "error",
     "traceback": [
      "\u001b[0;31m---------------------------------------------------------------------------\u001b[0m",
      "\u001b[0;31mAssertionError\u001b[0m                            Traceback (most recent call last)",
      "Cell \u001b[0;32mIn[28], line 11\u001b[0m\n\u001b[1;32m      8\u001b[0m \u001b[38;5;28mprint\u001b[39m(result)  \u001b[38;5;66;03m# This will print 5.0\u001b[39;00m\n\u001b[1;32m     10\u001b[0m \u001b[38;5;66;03m# This will raise an AssertionError with the message \"Denominator must not be zero\"\u001b[39;00m\n\u001b[0;32m---> 11\u001b[0m result \u001b[38;5;241m=\u001b[39m divide(\u001b[38;5;241m10\u001b[39m, \u001b[38;5;241m0\u001b[39m)\n",
      "Cell \u001b[0;32mIn[28], line 3\u001b[0m, in \u001b[0;36mdivide\u001b[0;34m(a, b)\u001b[0m\n\u001b[1;32m      1\u001b[0m \u001b[38;5;28;01mdef\u001b[39;00m \u001b[38;5;21mdivide\u001b[39m(a, b):\n\u001b[1;32m      2\u001b[0m     \u001b[38;5;66;03m# Assert that the denominator is not zero\u001b[39;00m\n\u001b[0;32m----> 3\u001b[0m     \u001b[38;5;28;01massert\u001b[39;00m b \u001b[38;5;241m!=\u001b[39m \u001b[38;5;241m0\u001b[39m, \u001b[38;5;124m\"\u001b[39m\u001b[38;5;124mDenominator must not be zero\u001b[39m\u001b[38;5;124m\"\u001b[39m\n\u001b[1;32m      4\u001b[0m     \u001b[38;5;28;01mreturn\u001b[39;00m a \u001b[38;5;241m/\u001b[39m b\n",
      "\u001b[0;31mAssertionError\u001b[0m: Denominator must not be zero"
     ]
    }
   ],
   "source": [
    "def divide(a, b):\n",
    "    # Assert that the denominator is not zero\n",
    "    assert b != 0, \"Denominator must not be zero\"\n",
    "    return a / b\n",
    "\n",
    "# Testing the divide function\n",
    "result = divide(10, 2)\n",
    "print(result)  # This will print 5.0\n",
    "\n",
    "# This will raise an AssertionError with the message \"Denominator must not be zero\"\n",
    "result = divide(10, 0)"
   ]
  },
  {
   "cell_type": "markdown",
   "id": "a8d57f93-91d5-4294-a7d2-2d9359e6d1de",
   "metadata": {},
   "source": [
    "<img src=\"assert_expl_ex2.png\" width=700px />"
   ]
  },
  {
   "cell_type": "markdown",
   "id": "1cb2d870-a0e0-47b4-a0a2-d27067c412ea",
   "metadata": {},
   "source": [
    "<img src=\"assert_syntax_prompt.png\" width=700px/>"
   ]
  },
  {
   "cell_type": "markdown",
   "id": "010d7cf6-5ecc-4949-b85e-48da514222e0",
   "metadata": {},
   "source": [
    "<img src=\"assert_syntax.png\" width=700px/>"
   ]
  },
  {
   "cell_type": "markdown",
   "id": "e7d834fe-3d19-4b55-a9d3-776e1da308be",
   "metadata": {},
   "source": [
    "**1. Basic assertion without a message:**"
   ]
  },
  {
   "cell_type": "code",
   "execution_count": 15,
   "id": "5b2e83e7-644b-448e-90b0-e1e263f72b27",
   "metadata": {},
   "outputs": [],
   "source": [
    "x = 5\n",
    "assert x > 0  # This will pass because x is greater than 0"
   ]
  },
  {
   "cell_type": "markdown",
   "id": "259cdf4d-1cce-4fd8-a18f-2abd1ae82527",
   "metadata": {},
   "source": [
    "**2. Assertion with a message:**"
   ]
  },
  {
   "cell_type": "code",
   "execution_count": 16,
   "id": "399ee400-3c1a-42c4-86b3-45b95a384bd8",
   "metadata": {},
   "outputs": [
    {
     "ename": "AssertionError",
     "evalue": "y must be positive",
     "output_type": "error",
     "traceback": [
      "\u001b[0;31m---------------------------------------------------------------------------\u001b[0m",
      "\u001b[0;31mAssertionError\u001b[0m                            Traceback (most recent call last)",
      "Cell \u001b[0;32mIn[16], line 2\u001b[0m\n\u001b[1;32m      1\u001b[0m y \u001b[38;5;241m=\u001b[39m \u001b[38;5;241m-\u001b[39m\u001b[38;5;241m3\u001b[39m\n\u001b[0;32m----> 2\u001b[0m \u001b[38;5;28;01massert\u001b[39;00m y \u001b[38;5;241m>\u001b[39m \u001b[38;5;241m0\u001b[39m, \u001b[38;5;124m\"\u001b[39m\u001b[38;5;124my must be positive\u001b[39m\u001b[38;5;124m\"\u001b[39m\n",
      "\u001b[0;31mAssertionError\u001b[0m: y must be positive"
     ]
    }
   ],
   "source": [
    "y = -3\n",
    "assert y > 0, \"y must be positive\"  # This will raise an AssertionError with the message \"y must be positive\""
   ]
  },
  {
   "cell_type": "markdown",
   "id": "8820b1a4-c7d1-4c43-8f76-a7060337edb8",
   "metadata": {},
   "source": [
    "---"
   ]
  },
  {
   "cell_type": "markdown",
   "id": "9735c728-999b-4c65-bd0f-150549a19ea8",
   "metadata": {},
   "source": [
    "#### <font color=\"brown\">Example: Assertions to check/filter parameter type and values, if-elif decision structure</font>"
   ]
  },
  {
   "cell_type": "markdown",
   "id": "8316c151-b733-4d49-91df-9bfbfa13976d",
   "metadata": {},
   "source": [
    "Write a function named grade to assign a letter grade based on an integer score between 0 and 100. A score of 90 or more gets an 'A' grade, 80 or more gets a 'B', 70 or more gets a 'C', 60 or more gets a 'D', otherwise the grade is an 'F'. "
   ]
  },
  {
   "cell_type": "markdown",
   "id": "c7810e25-7a8a-4d76-8323-1d4b6401f2d8",
   "metadata": {},
   "source": [
    "**I wrote the above prompt in the same chat session as the sort 3 numbers chat.**<br>\n",
    "**Without being explicitly asked to in the prompt, ChatGPT inferred and acted on the following, based on the context of the start 3 numbers chat**:\n",
    "- It used Python as the language for coding\n",
    "- It explicitly specified data types for parameters and result\n",
    "- It inserted assert statements at the top of the function to verify that the parameter is an int, and that its value is between 0 and 100"
   ]
  },
  {
   "cell_type": "markdown",
   "id": "8a1316dd-30c3-4d4a-9278-8ba14e66edf9",
   "metadata": {},
   "source": [
    "---"
   ]
  },
  {
   "cell_type": "markdown",
   "id": "2b28e47b-4e91-41a5-a195-d87e4f553fd3",
   "metadata": {},
   "source": [
    "<img src=\"grades_prompt.png\" width=700px/>"
   ]
  },
  {
   "cell_type": "code",
   "execution_count": 3,
   "id": "eeeb5649-9884-46ed-bf22-f02f193ebc07",
   "metadata": {},
   "outputs": [
    {
     "name": "stdout",
     "output_type": "stream",
     "text": [
      "A\n",
      "B\n",
      "C\n",
      "D\n",
      "F\n"
     ]
    }
   ],
   "source": [
    "def grade(score: int) -> str:\n",
    "    # Preconditions: check that the score is an integer between 0 and 100\n",
    "    assert isinstance(score, int), \"Score must be an integer\"\n",
    "    assert 0 <= score <= 100, \"Score must be between 0 and 100\"\n",
    "\n",
    "    # Assigning letter grade based on the score\n",
    "    if score >= 90:\n",
    "        return 'A'\n",
    "    elif score >= 80:\n",
    "        return 'B'\n",
    "    elif score >= 70:\n",
    "        return 'C'\n",
    "    elif score >= 60:\n",
    "        return 'D'\n",
    "    else:\n",
    "        return 'F'\n",
    "\n",
    "# Example usage:\n",
    "print(grade(95))  # Output: 'A'\n",
    "print(grade(85))  # Output: 'B'\n",
    "print(grade(75))  # Output: 'C'\n",
    "print(grade(65))  # Output: 'D'\n",
    "print(grade(55))  # Output: 'F'\n"
   ]
  },
  {
   "cell_type": "markdown",
   "id": "8528f63b-6d5a-46a7-9672-299e3c9d9061",
   "metadata": {},
   "source": [
    "**Unbidden, ChatGPT also added an explanation for the code. I haven't shown the explanation here because it doesn't add anything to what we already know from reviewing the code.**"
   ]
  },
  {
   "cell_type": "markdown",
   "id": "4b4f79d3-1f83-4850-acfc-da9efce1d4d6",
   "metadata": {},
   "source": [
    "While this code structure is good, it can be made better. Since a return statement immediately exits the method, the <code>elif</code> (and <code>else</code>) are redundant. We can prompt ChatGPT to improve on the code structure:"
   ]
  },
  {
   "cell_type": "markdown",
   "id": "5d33a42a-9f9a-4def-b764-f5fe053352d8",
   "metadata": {},
   "source": [
    "---"
   ]
  },
  {
   "cell_type": "markdown",
   "id": "c5e2d64d-8bef-4e6f-a1d6-021ffceaab0b",
   "metadata": {},
   "source": [
    "<img src=\"grades_better_prompt.png\" width=700px />"
   ]
  },
  {
   "cell_type": "code",
   "execution_count": 4,
   "id": "d32dcaf9-b606-4b1e-8abe-02a1aa08fb9f",
   "metadata": {},
   "outputs": [
    {
     "name": "stdout",
     "output_type": "stream",
     "text": [
      "F\n",
      "D\n",
      "C\n",
      "B\n",
      "A\n"
     ]
    }
   ],
   "source": [
    "def grade2(score: int) -> str:\n",
    "    # Preconditions: check that the score is an integer between 0 and 100\n",
    "    assert isinstance(score, int), \"Score must be an integer\"\n",
    "    assert 0 <= score <= 100, \"Score must be between 0 and 100\"\n",
    "\n",
    "    # Assigning letter grade based on the score, from lowest to highest grade\n",
    "    if score < 60:\n",
    "        return 'F'\n",
    "    if score < 70:\n",
    "        return 'D'\n",
    "    if score < 80:\n",
    "        return 'C'\n",
    "    if score < 90:\n",
    "        return 'B'\n",
    "    return 'A'\n",
    "\n",
    "# Example usage:\n",
    "print(grade2(55))  # Output: 'F'\n",
    "print(grade2(65))  # Output: 'D'\n",
    "print(grade2(75))  # Output: 'C'\n",
    "print(grade2(85))  # Output: 'B'\n",
    "print(grade2(95))  # Output: 'A'\n"
   ]
  },
  {
   "cell_type": "markdown",
   "id": "15440fce-8b39-413e-9517-04eba972b7ba",
   "metadata": {},
   "source": [
    "---"
   ]
  },
  {
   "cell_type": "markdown",
   "id": "9c645bac-e9dc-4130-bf46-49f838db717a",
   "metadata": {},
   "source": [
    "### <font color=\"brown\">Reading input from console</font>"
   ]
  },
  {
   "cell_type": "markdown",
   "id": "aff32b1a-759e-4877-8df5-7cfea7370fc1",
   "metadata": {},
   "source": [
    "Write a function named tempconvert to convert a fahrenheit temperature value to celsius, or vice versa. Temparatures can be real numbers. The function needs to ask the user whether they want to convert fahrenheit to celsius or vice versa. Depending on the answer, the function should prompt the user for a temperature value in the chosen unit, convert it to the other unit, and return the result."
   ]
  },
  {
   "cell_type": "markdown",
   "id": "18fb81da-a3e6-4f12-aae9-86048c32d4a8",
   "metadata": {},
   "source": [
    "---"
   ]
  },
  {
   "cell_type": "markdown",
   "id": "1ac055fe-a838-4341-95a4-d4e8f1f1d15b",
   "metadata": {},
   "source": [
    "<img src=\"tempconvert_prompt.png\" width=700px />"
   ]
  },
  {
   "cell_type": "code",
   "execution_count": 6,
   "id": "d05ebf82-d2c7-4a9d-b002-cd95e04e0762",
   "metadata": {},
   "outputs": [
    {
     "name": "stdin",
     "output_type": "stream",
     "text": [
      "Type 'F to C' to convert Fahrenheit to Celsius or 'C to F' to convert Celsius to Fahrenheit:  F to C\n",
      "Enter temperature in Fahrenheit:  55\n"
     ]
    },
    {
     "name": "stdout",
     "output_type": "stream",
     "text": [
      "55.0 Fahrenheit is 12.78 Celsius.\n"
     ]
    }
   ],
   "source": [
    "def tempconvert() -> float:\n",
    "    def fahrenheit_to_celsius(f: float) -> float:\n",
    "        return (f - 32) * 5.0 / 9.0\n",
    "\n",
    "    def celsius_to_fahrenheit(c: float) -> float:\n",
    "        return (c * 9.0 / 5.0) + 32\n",
    "\n",
    "    # Asking the user which conversion they want to perform\n",
    "    conversion_type = input(\"Type 'F to C' to convert Fahrenheit to Celsius or 'C to F' to convert Celsius to Fahrenheit: \").strip()\n",
    "\n",
    "    if conversion_type.lower() == 'f to c':\n",
    "        fahrenheit = float(input(\"Enter temperature in Fahrenheit: \"))\n",
    "        celsius = fahrenheit_to_celsius(fahrenheit)\n",
    "        print(f\"{fahrenheit} Fahrenheit is {celsius:.2f} Celsius.\")\n",
    "        return celsius\n",
    "    elif conversion_type.lower() == 'c to f':\n",
    "        celsius = float(input(\"Enter temperature in Celsius: \"))\n",
    "        fahrenheit = celsius_to_fahrenheit(celsius)\n",
    "        print(f\"{celsius} Celsius is {fahrenheit:.2f} Fahrenheit.\")\n",
    "        return fahrenheit\n",
    "    else:\n",
    "        print(\"Invalid input. Please enter 'F to C' or 'C to F'.\")\n",
    "        return None\n",
    "\n",
    "# Example usage:\n",
    "result = tempconvert()\n"
   ]
  },
  {
   "cell_type": "markdown",
   "id": "eecd6257-f2fa-41ac-a483-1690375d04a0",
   "metadata": {},
   "source": [
    "<b>Note the following</b>:\n",
    "- Any input text read from console is a string. So if a numeric value is required, the input needs to be \"cast\" to the required numeric type, e.g. `float(\"22.6\")`\n",
    "- The `else` part returns `None`, which in Python stands for nothing or null"
   ]
  },
  {
   "cell_type": "markdown",
   "id": "ee2a8633-d450-4486-80ef-6938a1a3bebe",
   "metadata": {},
   "source": [
    "**I was surprised that it used nested helper functions for each of the conversion logics. Since the logic is trivial, nested helper functions are an overkill. We can prompt ChatGPT to redo the code without these functions. (Nested functions are a neat Python feature!)**"
   ]
  },
  {
   "cell_type": "markdown",
   "id": "bba0583d-6bda-4356-9030-c72661ef0bf3",
   "metadata": {},
   "source": [
    "<img src=\"tempconvert_prompt2.png\" width=700px />"
   ]
  },
  {
   "cell_type": "code",
   "execution_count": 7,
   "id": "f8871ae9-9d00-45ca-9cb5-dcb7b05e592b",
   "metadata": {},
   "outputs": [
    {
     "name": "stdin",
     "output_type": "stream",
     "text": [
      "Type 'F to C' to convert Fahrenheit to Celsius or 'C to F' to convert Celsius to Fahrenheit:  C to F\n",
      "Enter temperature in Celsius:  18.3\n"
     ]
    },
    {
     "name": "stdout",
     "output_type": "stream",
     "text": [
      "18.3 Celsius is 64.94 Fahrenheit.\n"
     ]
    }
   ],
   "source": [
    "def tempconvert() -> float:\n",
    "    # Asking the user which conversion they want to perform\n",
    "    conversion_type = input(\"Type 'F to C' to convert Fahrenheit to Celsius or 'C to F' to convert Celsius to Fahrenheit: \").strip()\n",
    "\n",
    "    if conversion_type.lower() == 'f to c':\n",
    "        fahrenheit = float(input(\"Enter temperature in Fahrenheit: \"))\n",
    "        celsius = (fahrenheit - 32) * 5.0 / 9.0\n",
    "        print(f\"{fahrenheit} Fahrenheit is {celsius:.2f} Celsius.\")\n",
    "        return celsius\n",
    "    elif conversion_type.lower() == 'c to f':\n",
    "        celsius = float(input(\"Enter temperature in Celsius: \"))\n",
    "        fahrenheit = (celsius * 9.0 / 5.0) + 32\n",
    "        print(f\"{celsius} Celsius is {fahrenheit:.2f} Fahrenheit.\")\n",
    "        return fahrenheit\n",
    "    else:\n",
    "        print(\"Invalid input. Please enter 'F to C' or 'C to F'.\")\n",
    "        return None\n",
    "\n",
    "# Example usage:\n",
    "result = tempconvert()\n"
   ]
  },
  {
   "cell_type": "code",
   "execution_count": 8,
   "id": "888c190d-16e2-418c-9195-5a3bfff74a71",
   "metadata": {},
   "outputs": [
    {
     "name": "stdin",
     "output_type": "stream",
     "text": [
      "Type 'F to C' to convert Fahrenheit to Celsius or 'C to F' to convert Celsius to Fahrenheit:  x to y\n"
     ]
    },
    {
     "name": "stdout",
     "output_type": "stream",
     "text": [
      "Invalid input. Please enter 'F to C' or 'C to F'.\n"
     ]
    }
   ],
   "source": [
    "# exercising the None part\n",
    "result = tempconvert()"
   ]
  },
  {
   "cell_type": "code",
   "execution_count": 9,
   "id": "95dbbeea-9bf9-4cc3-a7c7-591d79b5e191",
   "metadata": {},
   "outputs": [
    {
     "name": "stdout",
     "output_type": "stream",
     "text": [
      "None\n"
     ]
    }
   ],
   "source": [
    "print(result)"
   ]
  },
  {
   "cell_type": "code",
   "execution_count": 11,
   "id": "d1e0a4a5-0196-4f2c-8274-95b419f7cf1d",
   "metadata": {},
   "outputs": [],
   "source": [
    "# if you simply echo None, it won't show anything\n",
    "result"
   ]
  },
  {
   "cell_type": "markdown",
   "id": "8e301d0c-ba84-42b9-95b4-d45f5087738e",
   "metadata": {},
   "source": [
    "**What is the user enters a non-numeric value for the temperature?**"
   ]
  },
  {
   "cell_type": "code",
   "execution_count": 12,
   "id": "e8883f07-fd0c-4604-8c7e-6c405c01ecda",
   "metadata": {},
   "outputs": [
    {
     "name": "stdin",
     "output_type": "stream",
     "text": [
      "Type 'F to C' to convert Fahrenheit to Celsius or 'C to F' to convert Celsius to Fahrenheit:  f to c\n",
      "Enter temperature in Fahrenheit:  xyz\n"
     ]
    },
    {
     "ename": "ValueError",
     "evalue": "could not convert string to float: 'xyz'",
     "output_type": "error",
     "traceback": [
      "\u001b[0;31m---------------------------------------------------------------------------\u001b[0m",
      "\u001b[0;31mValueError\u001b[0m                                Traceback (most recent call last)",
      "Cell \u001b[0;32mIn[12], line 1\u001b[0m\n\u001b[0;32m----> 1\u001b[0m result \u001b[38;5;241m=\u001b[39m tempconvert()\n",
      "Cell \u001b[0;32mIn[7], line 6\u001b[0m, in \u001b[0;36mtempconvert\u001b[0;34m()\u001b[0m\n\u001b[1;32m      3\u001b[0m conversion_type \u001b[38;5;241m=\u001b[39m \u001b[38;5;28minput\u001b[39m(\u001b[38;5;124m\"\u001b[39m\u001b[38;5;124mType \u001b[39m\u001b[38;5;124m'\u001b[39m\u001b[38;5;124mF to C\u001b[39m\u001b[38;5;124m'\u001b[39m\u001b[38;5;124m to convert Fahrenheit to Celsius or \u001b[39m\u001b[38;5;124m'\u001b[39m\u001b[38;5;124mC to F\u001b[39m\u001b[38;5;124m'\u001b[39m\u001b[38;5;124m to convert Celsius to Fahrenheit: \u001b[39m\u001b[38;5;124m\"\u001b[39m)\u001b[38;5;241m.\u001b[39mstrip()\n\u001b[1;32m      5\u001b[0m \u001b[38;5;28;01mif\u001b[39;00m conversion_type\u001b[38;5;241m.\u001b[39mlower() \u001b[38;5;241m==\u001b[39m \u001b[38;5;124m'\u001b[39m\u001b[38;5;124mf to c\u001b[39m\u001b[38;5;124m'\u001b[39m:\n\u001b[0;32m----> 6\u001b[0m     fahrenheit \u001b[38;5;241m=\u001b[39m \u001b[38;5;28mfloat\u001b[39m(\u001b[38;5;28minput\u001b[39m(\u001b[38;5;124m\"\u001b[39m\u001b[38;5;124mEnter temperature in Fahrenheit: \u001b[39m\u001b[38;5;124m\"\u001b[39m))\n\u001b[1;32m      7\u001b[0m     celsius \u001b[38;5;241m=\u001b[39m (fahrenheit \u001b[38;5;241m-\u001b[39m \u001b[38;5;241m32\u001b[39m) \u001b[38;5;241m*\u001b[39m \u001b[38;5;241m5.0\u001b[39m \u001b[38;5;241m/\u001b[39m \u001b[38;5;241m9.0\u001b[39m\n\u001b[1;32m      8\u001b[0m     \u001b[38;5;28mprint\u001b[39m(\u001b[38;5;124mf\u001b[39m\u001b[38;5;124m\"\u001b[39m\u001b[38;5;132;01m{\u001b[39;00mfahrenheit\u001b[38;5;132;01m}\u001b[39;00m\u001b[38;5;124m Fahrenheit is \u001b[39m\u001b[38;5;132;01m{\u001b[39;00mcelsius\u001b[38;5;132;01m:\u001b[39;00m\u001b[38;5;124m.2f\u001b[39m\u001b[38;5;132;01m}\u001b[39;00m\u001b[38;5;124m Celsius.\u001b[39m\u001b[38;5;124m\"\u001b[39m)\n",
      "\u001b[0;31mValueError\u001b[0m: could not convert string to float: 'xyz'"
     ]
    }
   ],
   "source": [
    "result = tempconvert()"
   ]
  },
  {
   "cell_type": "markdown",
   "id": "1842deed-459b-47a0-b4f6-2c30f2ff6203",
   "metadata": {},
   "source": [
    "---"
   ]
  },
  {
   "cell_type": "markdown",
   "id": "d322ffb4-71c7-4897-a8e3-7b2c3108ed54",
   "metadata": {},
   "source": [
    "#### Improving the code to handle non-numeric inputs gracefully using try-except to trap errors (exceptions)"
   ]
  },
  {
   "cell_type": "markdown",
   "id": "2065c92d-73b1-42cc-9adc-808f51a27d4e",
   "metadata": {},
   "source": [
    "<img src=\"tempconvert_prompt3.png\" width=700px />"
   ]
  },
  {
   "cell_type": "code",
   "execution_count": 14,
   "id": "9d0c7b96-ccb2-4d93-9894-95af616030ce",
   "metadata": {
    "collapsed": true,
    "jupyter": {
     "outputs_hidden": true
    }
   },
   "outputs": [
    {
     "name": "stdin",
     "output_type": "stream",
     "text": [
      "Type 'F to C' to convert Fahrenheit to Celsius or 'C to F' to convert Celsius to Fahrenheit:  f to c\n",
      "Enter temperature in Fahrenheit:  xyz\n"
     ]
    },
    {
     "name": "stdout",
     "output_type": "stream",
     "text": [
      "Invalid input. Please enter a numeric value for the temperature.\n"
     ]
    }
   ],
   "source": [
    "def tempconvert() -> float:\n",
    "    # Asking the user which conversion they want to perform\n",
    "    conversion_type = input(\"Type 'F to C' to convert Fahrenheit to Celsius or 'C to F' to convert Celsius to Fahrenheit: \").strip()\n",
    "\n",
    "    if conversion_type.lower() == 'f to c':\n",
    "        try:\n",
    "            fahrenheit = float(input(\"Enter temperature in Fahrenheit: \"))\n",
    "            celsius = (fahrenheit - 32) * 5.0 / 9.0\n",
    "            print(f\"{fahrenheit} Fahrenheit is {celsius:.2f} Celsius.\")\n",
    "            return celsius\n",
    "        except ValueError:\n",
    "            print(\"Invalid input. Please enter a numeric value for the temperature.\")\n",
    "            return None\n",
    "    elif conversion_type.lower() == 'c to f':\n",
    "        try:\n",
    "            celsius = float(input(\"Enter temperature in Celsius: \"))\n",
    "            fahrenheit = (celsius * 9.0 / 5.0) + 32\n",
    "            print(f\"{celsius} Celsius is {fahrenheit:.2f} Fahrenheit.\")\n",
    "            return fahrenheit\n",
    "        except ValueError:\n",
    "            print(\"Invalid input. Please enter a numeric value for the temperature.\")\n",
    "            return None\n",
    "    else:\n",
    "        print(\"Invalid input. Please enter 'F to C' or 'C to F'.\")\n",
    "        return None\n",
    "\n",
    "# Example usage:\n",
    "result = tempconvert()\n"
   ]
  },
  {
   "cell_type": "markdown",
   "id": "1d71f9f0-ce7a-45d2-82d6-23ae7088dff0",
   "metadata": {},
   "source": [
    "<img src=\"tempconvert_prompt4.png\" width=700px />"
   ]
  },
  {
   "cell_type": "code",
   "execution_count": 15,
   "id": "6b9ad0cd-2572-42f0-a056-f565fd98b10d",
   "metadata": {},
   "outputs": [
    {
     "name": "stdin",
     "output_type": "stream",
     "text": [
      "Type 'F to C' to convert Fahrenheit to Celsius or 'C to F' to convert Celsius to Fahrenheit:  f to c\n",
      "Enter temperature in Fahrenheit:  32\n"
     ]
    },
    {
     "name": "stdout",
     "output_type": "stream",
     "text": [
      "Converted temperature: 0.00\n"
     ]
    }
   ],
   "source": [
    "def tempconvert() -> float:\n",
    "    # Asking the user which conversion they want to perform\n",
    "    conversion_type = input(\"Type 'F to C' to convert Fahrenheit to Celsius or 'C to F' to convert Celsius to Fahrenheit: \").strip()\n",
    "\n",
    "    try:\n",
    "        if conversion_type.lower() == 'f to c':\n",
    "            fahrenheit = float(input(\"Enter temperature in Fahrenheit: \"))\n",
    "            celsius = (fahrenheit - 32) * 5.0 / 9.0\n",
    "            return celsius\n",
    "        elif conversion_type.lower() == 'c to f':\n",
    "            celsius = float(input(\"Enter temperature in Celsius: \"))\n",
    "            fahrenheit = (celsius * 9.0 / 5.0) + 32\n",
    "            return fahrenheit\n",
    "        else:\n",
    "            print(\"Invalid input. Please enter 'F to C' or 'C to F'.\")\n",
    "            return None\n",
    "    except ValueError:\n",
    "        print(\"Invalid input. Please enter a numeric value for the temperature.\")\n",
    "        return None\n",
    "\n",
    "# Example usage:\n",
    "result = tempconvert()\n",
    "if result is not None:\n",
    "    print(f\"Converted temperature: {result:.2f}\")\n"
   ]
  },
  {
   "cell_type": "markdown",
   "id": "650fccf1-d359-4450-a69f-f73e775c4401",
   "metadata": {},
   "source": [
    "**Note that the result is only printed if the value is not `None`**"
   ]
  }
 ],
 "metadata": {
  "kernelspec": {
   "display_name": "Python 3 (ipykernel)",
   "language": "python",
   "name": "python3"
  },
  "language_info": {
   "codemirror_mode": {
    "name": "ipython",
    "version": 3
   },
   "file_extension": ".py",
   "mimetype": "text/x-python",
   "name": "python",
   "nbconvert_exporter": "python",
   "pygments_lexer": "ipython3",
   "version": "3.11.7"
  }
 },
 "nbformat": 4,
 "nbformat_minor": 5
}
